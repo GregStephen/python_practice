{
 "cells": [
  {
   "cell_type": "code",
   "execution_count": 6,
   "metadata": {},
   "outputs": [],
   "source": [
    "def user_choice():\n",
    "    \n",
    "    # VARIABLES\n",
    "    \n",
    "    #Initial\n",
    "    choice = 'WRONG'\n",
    "    acceptable_range = range(0,10)\n",
    "    within_range = False\n",
    "    \n",
    "    # TWO CONDITIONS TO CHECK\n",
    "    # DIGIT OR WITHIN RANGE == FALSE\n",
    "    while choice.isdigit() == False or within_range == False:\n",
    "        choice = input(\"Please enter a number (0-10): \")\n",
    "        \n",
    "        # DIGIT CHECK\n",
    "        if choice.isdigit() == False:\n",
    "            print(\"Sorry that is not a digit\")\n",
    "            \n",
    "        # RANGE CHECK\n",
    "        if choice.isdigit():\n",
    "            if int(choice) in acceptable_range:\n",
    "                within_range = True\n",
    "            else :\n",
    "                print(\"Sorry that is not in the acceptable range (0-10)\")\n",
    "                within_range = False\n",
    "    return int(choice)"
   ]
  },
  {
   "cell_type": "code",
   "execution_count": 7,
   "metadata": {},
   "outputs": [
    {
     "name": "stdout",
     "output_type": "stream",
     "text": [
      "Please enter a number (0-10): 11\n",
      "Sorry that is not in the acceptable range (0-10)\n",
      "Please enter a number (0-10): 2rf\n",
      "Sorry that is not a digit\n",
      "Please enter a number (0-10): 5\n"
     ]
    },
    {
     "data": {
      "text/plain": [
       "5"
      ]
     },
     "execution_count": 7,
     "metadata": {},
     "output_type": "execute_result"
    }
   ],
   "source": [
    "user_choice()"
   ]
  },
  {
   "cell_type": "code",
   "execution_count": 8,
   "metadata": {},
   "outputs": [],
   "source": [
    "game_list = [0,1,2]\n"
   ]
  },
  {
   "cell_type": "code",
   "execution_count": 9,
   "metadata": {},
   "outputs": [],
   "source": [
    "def display_game(game_list):\n",
    "    print(\"Here is the current list: \")\n",
    "    print(game_list)"
   ]
  },
  {
   "cell_type": "code",
   "execution_count": 10,
   "metadata": {},
   "outputs": [
    {
     "name": "stdout",
     "output_type": "stream",
     "text": [
      "Here is the current list: \n",
      "[0, 1, 2]\n"
     ]
    }
   ],
   "source": [
    "display_game(game_list)"
   ]
  },
  {
   "cell_type": "code",
   "execution_count": 11,
   "metadata": {},
   "outputs": [],
   "source": [
    "def position_choice():\n",
    "    choice = 'wrong'\n",
    "    while choice not in ['0', '1', '2']:\n",
    "        choice = input(\"Pick a position (0,1,2): \")\n",
    "        \n",
    "        if choice not in ['0', '1', '2']:\n",
    "            print (\"Sorry, invalid choice!\")\n",
    "    return int(choice)"
   ]
  },
  {
   "cell_type": "code",
   "execution_count": 13,
   "metadata": {},
   "outputs": [
    {
     "name": "stdout",
     "output_type": "stream",
     "text": [
      "Pick a position (0,1,2): 5\n",
      "Sorry, invalid choice!\n",
      "Pick a position (0,1,2): 3\n",
      "Sorry, invalid choice!\n",
      "Pick a position (0,1,2): 2\n"
     ]
    },
    {
     "data": {
      "text/plain": [
       "2"
      ]
     },
     "execution_count": 13,
     "metadata": {},
     "output_type": "execute_result"
    }
   ],
   "source": [
    "position_choice()"
   ]
  },
  {
   "cell_type": "code",
   "execution_count": 14,
   "metadata": {},
   "outputs": [],
   "source": [
    "def replacement_choice(game_list, position):\n",
    "    user_placement= input(\"Type a string to place at position: \")\n",
    "    \n",
    "    game_list[position] = user_placement\n",
    "    \n",
    "    return game_list"
   ]
  },
  {
   "cell_type": "code",
   "execution_count": 15,
   "metadata": {},
   "outputs": [
    {
     "name": "stdout",
     "output_type": "stream",
     "text": [
      "Type a string to place at position: test\n"
     ]
    },
    {
     "data": {
      "text/plain": [
       "[0, 'test', 2]"
      ]
     },
     "execution_count": 15,
     "metadata": {},
     "output_type": "execute_result"
    }
   ],
   "source": [
    "replacement_choice(game_list, 1)"
   ]
  },
  {
   "cell_type": "code",
   "execution_count": 16,
   "metadata": {},
   "outputs": [],
   "source": [
    "def gameon_choice():\n",
    "    choice = 'wrong'\n",
    "    while choice not in ['Y', 'N']:\n",
    "        choice = input(\"Keep playing? (Y or N) \")\n",
    "        \n",
    "        if choice not in ['Y', 'N']:\n",
    "            print (\"Sorry, I dont understand please choose Y or N\")\n",
    "    if choice == \"Y\":\n",
    "        return True\n",
    "    else:\n",
    "        return False"
   ]
  },
  {
   "cell_type": "code",
   "execution_count": 17,
   "metadata": {},
   "outputs": [
    {
     "name": "stdout",
     "output_type": "stream",
     "text": [
      "Keep playing? (Y or N) asg\n",
      "Sorry, I dont understand please choose Y or N\n",
      "Keep playing? (Y or N) y\n",
      "Sorry, I dont understand please choose Y or N\n",
      "Keep playing? (Y or N) Y\n"
     ]
    },
    {
     "data": {
      "text/plain": [
       "True"
      ]
     },
     "execution_count": 17,
     "metadata": {},
     "output_type": "execute_result"
    }
   ],
   "source": [
    "gameon_choice()"
   ]
  },
  {
   "cell_type": "code",
   "execution_count": 19,
   "metadata": {},
   "outputs": [
    {
     "name": "stdout",
     "output_type": "stream",
     "text": [
      "Here is the current list: \n",
      "[0, 1, 2]\n",
      "Pick a position (0,1,2): 0\n",
      "Type a string to place at position: 23r\n",
      "Here is the current list: \n",
      "['23r', 1, 2]\n",
      "Keep playing? (Y or N) N\n",
      "Good Game!\n"
     ]
    }
   ],
   "source": [
    "game_on = True\n",
    "game_list = [0, 1, 2]\n",
    "\n",
    "while game_on:\n",
    "    display_game(game_list)\n",
    "    position = position_choice()\n",
    "    game_list = replacement_choice(game_list, position)\n",
    "    display_game(game_list)\n",
    "    game_on = gameon_choice()\n",
    "print('Good Game!')"
   ]
  },
  {
   "cell_type": "code",
   "execution_count": null,
   "metadata": {},
   "outputs": [],
   "source": []
  },
  {
   "cell_type": "code",
   "execution_count": null,
   "metadata": {},
   "outputs": [],
   "source": []
  },
  {
   "cell_type": "code",
   "execution_count": 1,
   "metadata": {},
   "outputs": [],
   "source": [
    "def player_marker_picker(marker_choices):\n",
    "    \n",
    "    '''\n",
    "    OUTPUT = (Player 1 marker, Player 2 marker)\n",
    "    '''\n",
    "    \n",
    "    markers = marker_choices.copy()\n",
    "    player1 = 'wrong'\n",
    "    player2 = 'wrong'\n",
    "    while player1.upper() not in markers:\n",
    "        player1 = input(\"Player 1 please pick a marker '{}' or '{}'\".format(markers[0], markers[1]))\n",
    "        \n",
    "        if player1.upper() not in markers:\n",
    "            print(\"Sorry, you must pick either '{}' or '{}'\".format(markers[0], markers[1]))\n",
    "            \n",
    "    markers.pop(markers.index(player1.upper()))\n",
    "    player2 = markers[0]\n",
    "    return (player1.upper(), player2)"
   ]
  },
  {
   "cell_type": "code",
   "execution_count": 2,
   "metadata": {},
   "outputs": [],
   "source": [
    "def choose_a_position(board):\n",
    "    choice = 'wrong'\n",
    "    open_position = False\n",
    "    while choice not in range(1,10) or open_position == False:\n",
    "        choice = input(\"Please choose a position (1-9)\")\n",
    "        \n",
    "        # DIGIT CHECK\n",
    "        if choice.isdigit() == False:\n",
    "            print(\"Sorry that is not a number, please enter a number (1-9)\")\n",
    "     \n",
    "        if choice.isdigit():\n",
    "            if int(choice) in range(1,10):\n",
    "                if board[int(choice) - 1] == ' ':\n",
    "                    return int(choice)\n",
    "                else:\n",
    "                    print(\"Sorry that place has already been used, please try again\")\n",
    "            else:\n",
    "                print(\"Sorry that is not in the acceptable range (1-9)\")\n",
    "        "
   ]
  },
  {
   "cell_type": "code",
   "execution_count": 3,
   "metadata": {},
   "outputs": [],
   "source": [
    "from IPython.display import clear_output\n",
    "def display_board(board):\n",
    "    clear_output()\n",
    "    print('     |   |   ')\n",
    "    print('  {}  | {} | {} '.format(board[0], board[1], board[2]))\n",
    "    print('     |   |   ')\n",
    "    print('---------------')   \n",
    "    print('     |   |   ')\n",
    "    print('  {}  | {} | {} '.format(board[3], board[4], board[5]))\n",
    "    print('     |   |   ')\n",
    "    print('---------------')\n",
    "    print('     |   |   ')\n",
    "    print('  {}  | {} | {} '.format(board[6], board[7], board[8]))\n",
    "    print('     |   |   ')"
   ]
  },
  {
   "cell_type": "code",
   "execution_count": 4,
   "metadata": {},
   "outputs": [],
   "source": [
    "def place_marker(board, marker, position):\n",
    "    board[position - 1] = marker"
   ]
  },
  {
   "cell_type": "code",
   "execution_count": 5,
   "metadata": {},
   "outputs": [],
   "source": [
    "def win_check(board, mark):\n",
    "    # ACROSS WIN\n",
    "    if board[0] == mark and board[1] == mark and board[2] == mark:\n",
    "        return True\n",
    "    elif board[3] == mark and board[4] == mark and board[5] == mark:\n",
    "        return True\n",
    "    elif board[6] == mark and board[7] == mark and board[8] == mark:\n",
    "        return True\n",
    "    \n",
    "    # DOWN WIN\n",
    "    elif board[0] == mark and board[3] == mark and board[6] == mark:\n",
    "        return True\n",
    "    elif board[1] == mark and board[4] == mark and board[7] == mark:\n",
    "        return True\n",
    "    elif board[2] == mark and board[5] == mark and board[8] == mark:\n",
    "        return True\n",
    "    \n",
    "    # DIAGONAL WIN\n",
    "    \n",
    "    elif board[0] == mark and board[4] == mark and board[8] == mark:\n",
    "        return True\n",
    "    elif board[6] == mark and board[4] == mark and board[2] == mark:\n",
    "        return True\n",
    "    else:\n",
    "        return False"
   ]
  },
  {
   "cell_type": "code",
   "execution_count": 6,
   "metadata": {},
   "outputs": [],
   "source": [
    "def tie_check(board):\n",
    "    if ' ' not in board:\n",
    "        return True\n",
    "    else:\n",
    "        return False"
   ]
  },
  {
   "cell_type": "code",
   "execution_count": 7,
   "metadata": {},
   "outputs": [],
   "source": [
    "import random\n",
    "\n",
    "def choose_first():\n",
    "    players = ['Player 1', 'Player 2']\n",
    "    print(players[random.randint(0,1)])"
   ]
  },
  {
   "cell_type": "code",
   "execution_count": null,
   "metadata": {},
   "outputs": [],
   "source": [
    "def replay():\n",
    "    choice = 'wrong'\n",
    "    while choice not in ['Y', 'N']:\n",
    "        choice = input(\"Keep playing? (Y or N) \").upper()\n",
    "        \n",
    "        if choice not in ['Y', 'N']:\n",
    "            print (\"Sorry, I dont understand please choose Y or N\")\n",
    "    return choice == \"Y\""
   ]
  },
  {
   "cell_type": "code",
   "execution_count": null,
   "metadata": {},
   "outputs": [],
   "source": [
    "print('Welcome to Tic Tac Toe!')\n",
    "\n",
    "while True:\n",
    "    board = [' ',' ',' ',' ',' ',' ',' ',' ',' ']\n",
    "    game_on = True\n",
    "    player_markers = ['X', 'O']\n",
    "    player1_marker, player2_marker = player_marker_picker(player_markers)\n",
    "    turn = choose_first()\n",
    "    \n",
    "    while game_on == True:\n",
    "\n",
    "        if turn == 'Player 1':\n",
    "            display_board(board)\n",
    "            player1_position = choose_a_position(board)\n",
    "            place_marker(board, player1_marker, player1_position)\n",
    "            display_board(board)\n",
    "            if win_check(board, player1_marker):\n",
    "                display_board(board)\n",
    "                print(\"Congrats player 1\")\n",
    "                game_on = False\n",
    "            else:\n",
    "                if tie_check(board):\n",
    "                    display_board(board)\n",
    "                    print(\"TIE GAME\")\n",
    "                    game_on = False\n",
    "                else:\n",
    "                    turn = 'Player 2'\n",
    "        else: \n",
    "            display_board(board)\n",
    "            player2_position = choose_a_position(board)\n",
    "            place_marker(board, player2_marker, player2_position)\n",
    "            display_board(board)\n",
    "            if win_check(board, player2_marker):\n",
    "                display_board(board)\n",
    "                print(\"Congrats player 2\")\n",
    "                game_on = False\n",
    "            else:\n",
    "                if tie_check(board):\n",
    "                    display_board(board)\n",
    "                    print(\"TIE GAME\")\n",
    "                    game_on = False\n",
    "                else:\n",
    "                    turn = 'Player 1'\n",
    "    \n",
    "    if not replay():\n",
    "        break\n",
    "            \n",
    "    \n",
    "    "
   ]
  },
  {
   "cell_type": "code",
   "execution_count": null,
   "metadata": {},
   "outputs": [],
   "source": []
  },
  {
   "cell_type": "code",
   "execution_count": null,
   "metadata": {},
   "outputs": [],
   "source": []
  }
 ],
 "metadata": {
  "kernelspec": {
   "display_name": "Python 3",
   "language": "python",
   "name": "python3"
  },
  "language_info": {
   "codemirror_mode": {
    "name": "ipython",
    "version": 3
   },
   "file_extension": ".py",
   "mimetype": "text/x-python",
   "name": "python",
   "nbconvert_exporter": "python",
   "pygments_lexer": "ipython3",
   "version": "3.7.6"
  }
 },
 "nbformat": 4,
 "nbformat_minor": 4
}
