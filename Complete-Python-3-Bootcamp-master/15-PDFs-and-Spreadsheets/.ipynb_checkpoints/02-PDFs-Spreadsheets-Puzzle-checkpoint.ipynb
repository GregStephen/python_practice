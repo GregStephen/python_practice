{
 "cells": [
  {
   "cell_type": "markdown",
   "metadata": {},
   "source": [
    "___\n",
    "\n",
    "<a href='https://www.udemy.com/user/joseportilla/'><img src='../Pierian_Data_Logo.png'/></a>\n",
    "___\n",
    "<center><em>Content Copyright by Pierian Data</em></center>"
   ]
  },
  {
   "cell_type": "markdown",
   "metadata": {},
   "source": [
    "# PDFs and Spreadsheets Puzzle Exercise\n",
    "\n",
    "Let's test your skills, the files needed for this puzzle exercise\n",
    "\n",
    "You will need to work with two files for this exercise and solve the following tasks:\n",
    "\n",
    "* Task One: Use Python to extract the Google Drive link from the .csv file. (Hint: Its along the diagonal from top left to bottom right).\n",
    "* Task Two: Download the PDF from the Google Drive link (we already downloaded it for you just in case you can't download from Google Drive) and find the phone number that is in the document. Note: There are different ways of formatting a phone number!"
   ]
  },
  {
   "cell_type": "markdown",
   "metadata": {},
   "source": [
    "## Task One: Grab the Google Drive Link from .csv File"
   ]
  },
  {
   "cell_type": "code",
   "execution_count": 2,
   "metadata": {},
   "outputs": [],
   "source": [
    "import csv"
   ]
  },
  {
   "cell_type": "code",
   "execution_count": 4,
   "metadata": {},
   "outputs": [],
   "source": [
    "file = open('Exercise_Files/find_the_link.csv', encoding='utf-8')"
   ]
  },
  {
   "cell_type": "code",
   "execution_count": 5,
   "metadata": {},
   "outputs": [],
   "source": [
    "csv_data  = csv.reader(file)"
   ]
  },
  {
   "cell_type": "code",
   "execution_count": 6,
   "metadata": {},
   "outputs": [],
   "source": [
    "data_lines = list(csv_data)"
   ]
  },
  {
   "cell_type": "code",
   "execution_count": 13,
   "metadata": {},
   "outputs": [
    {
     "name": "stdout",
     "output_type": "stream",
     "text": [
      "https://drive.google.com/open?id=1G6SEgg018UB4_4xsAJJ5TdzrhmXipr4Q\n"
     ]
    }
   ],
   "source": [
    "address = []\n",
    "for index, line in enumerate(data_lines):\n",
    "    address.append(line[index])\n",
    "print(''.join(address))"
   ]
  },
  {
   "cell_type": "code",
   "execution_count": 14,
   "metadata": {},
   "outputs": [
    {
     "data": {
      "text/plain": [
       "'https://drive.google.com/open?id=1G6SEgg018UB4_4xsAJJ5TdzrhmXipr4Q'"
      ]
     },
     "execution_count": 14,
     "metadata": {},
     "output_type": "execute_result"
    }
   ],
   "source": [
    "# THe correct result is shown below, if you can't download from Google Drive, \n",
    "# we added the PDF file to the Exercise_Files folder already"
   ]
  },
  {
   "cell_type": "markdown",
   "metadata": {},
   "source": [
    "## Task Two: Download the PDF from the Google Drive link and find the phone number that is in the document. "
   ]
  },
  {
   "cell_type": "code",
   "execution_count": 14,
   "metadata": {},
   "outputs": [],
   "source": [
    "import PyPDF2"
   ]
  },
  {
   "cell_type": "code",
   "execution_count": 15,
   "metadata": {},
   "outputs": [],
   "source": [
    "f = open('Exercise_Files/Find_the_Phone_Number.pdf', 'rb')"
   ]
  },
  {
   "cell_type": "code",
   "execution_count": 16,
   "metadata": {},
   "outputs": [],
   "source": [
    "pdf_reader = PyPDF2.PdfFileReader(f)"
   ]
  },
  {
   "cell_type": "code",
   "execution_count": 18,
   "metadata": {},
   "outputs": [
    {
     "data": {
      "text/plain": [
       "17"
      ]
     },
     "execution_count": 18,
     "metadata": {},
     "output_type": "execute_result"
    }
   ],
   "source": [
    "pdf_reader.numPages"
   ]
  },
  {
   "cell_type": "code",
   "execution_count": 25,
   "metadata": {},
   "outputs": [],
   "source": [
    "import re"
   ]
  },
  {
   "cell_type": "code",
   "execution_count": 26,
   "metadata": {},
   "outputs": [
    {
     "name": "stdout",
     "output_type": "stream",
     "text": [
      "Pushback it's a simple lift and shift job. Hit the ground running zeitgeist hit the ground \n",
      "running, but first\n",
      "-\n",
      "order optimal strategies. When does this sunset? bleeding edge, high \n",
      "tu\n",
      "rnaround rate but agile. Ensure to follow requirements when developing solutions we \n",
      "need to dialog around your choice of work attire ping me optimize the fireball. When \n",
      "does this sunset? strategic fit pushback. Helicopter view back of the net, for i am dea\n",
      "d \n",
      "inside win\n",
      "-\n",
      "win\n",
      "-\n",
      "win yet service as core &innovations as power makes our brand. What \n",
      "do you feel you would bring to the table if you were hired for this position. Golden goose \n",
      "window\n",
      "-\n",
      "licker what do you feel you would bring to the table if you were hired fo\n",
      "r this \n",
      "position, or build on a culture of contribution and inclusion horsehead offer, we don't \n",
      "need to boil the ocean here. All hands on deck if you could do that, that would be great \n",
      "UI quarterly sales are at an all\n",
      "-\n",
      "time low, yet sea change but re\n",
      "-\n",
      "inventi\n",
      "ng the wheel. Let's \n",
      "put a pin in that locked and loaded. Tribal knowledge get buy\n",
      "-\n",
      "in quick win, so disband \n",
      "the squad but rehydrate as needed, hit the ground running, nor we want to see more \n",
      "charts for technologically savvy. Gain traction nail jelly to the \n",
      "hothouse wall, and come \n",
      "up with something buzzworthy. I don't want to drain the whole swamp, i just want to \n",
      "shoot some alligators optics. Product launch quantity can you slack it to me? \n",
      "downselect for fire up your browser streamline. Products need full res\n",
      "ourcing and \n",
      "support from a cross\n",
      "-\n",
      "functional team in order to be built, maintained, and evolved come \n",
      "up with something buzzworthy. Can you run this by clearance? hot johnny coming \n",
      "through into the weeds, for goalposts. Quarterly sales are at an all\n",
      "-\n",
      "time low\n",
      ". Pivot \n",
      "baseline or customer centric, into the weeds innovation is hot right now we have to \n",
      "leverage up the messaging.\n",
      " \n",
      " \n",
      " \n",
      "A tentative event rundown is attached for your reference, including other happenings on \n",
      "the day you are most welcome to join us beforeh\n",
      "and for a light lunch we would also like \n",
      "to invite you to other activities on the day, including the interim and closing panel \n",
      "discussions on the intersection of businesses and social innovation, and on building a \n",
      "stronger social innovation eco\n",
      "-\n",
      "system resp\n",
      "ectively. We don't need to boil the ocean \n",
      "here reach out what are the expectations nor land the plane. Talk to the slides make it \n",
      "more corporate please. Looks great, can we try it a different way cross functional teams \n",
      "enable out of the box brainstorming a\n",
      "nd cross sabers sacred cow beef up. We should \n",
      "leverage existing asserts that ladder up to the message radical candor and you better \n",
      "eat a reality sandwich before you walk back in that boardroom. Loop back core \n",
      "competencies. The right info at the right time\n",
      " \n",
      "to the right people can you put it on my \n",
      "calendar? so quick\n",
      "-\n",
      "win yet vertical integration. The horse is out of the barn are there \n",
      "any leftovers in the kitchen? back of the net, this is not the hill i want to die on.\n",
      " \n",
      " \n",
      " \n",
      "All hands on deck I just wanted to giv\n",
      "e you a heads\n",
      "-\n",
      "up, minimize backwards overflow \n",
      "and it's not hard guys we need to future\n",
      "-\n",
      "proof this, yet quick win, yet gage [sic] where \n",
      "\n"
     ]
    }
   ],
   "source": [
    "page = pdf_reader.getPage(1)\n",
    "page_text = page.extractText()\n",
    "print(page_text)"
   ]
  },
  {
   "cell_type": "code",
   "execution_count": 38,
   "metadata": {},
   "outputs": [
    {
     "name": "stdout",
     "output_type": "stream",
     "text": [
      "505.503.4455\n"
     ]
    }
   ],
   "source": [
    "phone_number = []\n",
    "phone_pattern = re.compile(r'(\\d{3})\\.(\\d{3})\\.(\\d{4})')\n",
    "for num in range(pdf_reader.numPages):\n",
    "    page = pdf_reader.getPage(num)\n",
    "    page_text = page.extractText()\n",
    "    possible = re.search(phone_pattern, page_text)\n",
    "    if possible != None:\n",
    "        phone_number.append(possible.group())\n",
    "print(phone_number[0])\n",
    "    "
   ]
  },
  {
   "cell_type": "code",
   "execution_count": 1,
   "metadata": {
    "collapsed": true
   },
   "outputs": [],
   "source": [
    "# You should get this phone number\n",
    "# 505 503 4455"
   ]
  }
 ],
 "metadata": {
  "anaconda-cloud": {},
  "kernelspec": {
   "display_name": "Python 3",
   "language": "python",
   "name": "python3"
  },
  "language_info": {
   "codemirror_mode": {
    "name": "ipython",
    "version": 3
   },
   "file_extension": ".py",
   "mimetype": "text/x-python",
   "name": "python",
   "nbconvert_exporter": "python",
   "pygments_lexer": "ipython3",
   "version": "3.7.6"
  }
 },
 "nbformat": 4,
 "nbformat_minor": 2
}
